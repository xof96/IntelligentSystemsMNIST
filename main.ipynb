{
 "cells": [
  {
   "cell_type": "code",
   "execution_count": null,
   "metadata": {
    "collapsed": true
   },
   "outputs": [],
   "source": [
    "import keras\n",
    "from keras.datasets import mnist\n",
    "from keras.models import Sequential\n",
    "from keras.layers import InputLayer\n",
    "from keras.layers import Dense, Dropout, Flatten\n",
    "from keras.layers import Conv2D, MaxPooling2D\n",
    "from keras import backend as K\n",
    "\n",
    "from sklearn.model_selection import train_test_split\n",
    "from sklearn.metrics import roc_curve, roc_auc_score, plot_roc_curve, auc\n",
    "from sklearn.preprocessing import label_binarize\n",
    "\n",
    "import matplotlib\n",
    "\n",
    "matplotlib.use('TkAgg')\n",
    "import matplotlib.pyplot as plt\n",
    "\n",
    "import numpy as np\n",
    "\n",
    "from random import randint\n",
    "from itertools import cycle"
   ]
  },
  {
   "cell_type": "code",
   "execution_count": null,
   "outputs": [],
   "source": [
    "# the data, split between train-valid and test sets\n",
    "(x_train_valid, y_train_valid), (x_test, y_test) = mnist.load_data()\n",
    "n_digits = 10"
   ],
   "metadata": {
    "collapsed": false,
    "pycharm": {
     "name": "#%%\n"
    }
   }
  },
  {
   "cell_type": "code",
   "execution_count": null,
   "outputs": [],
   "source": [
    "# data split between train (75%) and valid (25%)\n",
    "# train_test_split does it like that by default\n",
    "x_train, x_valid, y_train, y_valid = train_test_split(x_train_valid, y_train_valid)"
   ],
   "metadata": {
    "collapsed": false,
    "pycharm": {
     "name": "#%%\n"
    }
   }
  },
  {
   "cell_type": "code",
   "execution_count": null,
   "outputs": [],
   "source": [
    "# input image dimensions\n",
    "n_train, img_rows, img_cols = x_train.shape\n",
    "n_valid, _, _ = x_valid.shape\n",
    "n_test, _, _ = x_test.shape"
   ],
   "metadata": {
    "collapsed": false,
    "pycharm": {
     "name": "#%%\n"
    }
   }
  },
  {
   "cell_type": "code",
   "execution_count": null,
   "outputs": [],
   "source": [
    "# Before reshaping images, we are going to save an image for visualization\n",
    "rand_num = randint(0, 9999)\n",
    "test_image = x_test[rand_num]\n",
    "test_label = y_test[rand_num]"
   ],
   "metadata": {
    "collapsed": false,
    "pycharm": {
     "name": "#%%\n"
    }
   }
  },
  {
   "cell_type": "code",
   "execution_count": null,
   "outputs": [],
   "source": [
    "# Reshaping images to use multilayer perceptron as estimator\n",
    "mlp_x_train = x_train.reshape(n_train, img_rows * img_cols)\n",
    "mlp_x_valid = x_valid.reshape(n_valid, img_rows * img_cols)\n",
    "mlp_x_test = x_test.reshape(n_test, img_rows * img_cols)\n"
   ],
   "metadata": {
    "collapsed": false,
    "pycharm": {
     "name": "#%%\n"
    }
   }
  },
  {
   "cell_type": "code",
   "execution_count": null,
   "outputs": [],
   "source": [
    "def mlp(train_data, valid_data, n_classes=10, n_inner_layers=2, units_per_layer=(512, 512),\n",
    "        activations=('relu', 'relu', 'softmax'), dropouts=None,\n",
    "        optimizer=keras.optimizers.Adam(), loss=keras.losses.sparse_categorical_crossentropy,\n",
    "        metrics=None, batch_size=64, epochs=10):\n",
    "    \"\"\"\n",
    "    Create a mlp estimator using keras library, train this model and return it.\n",
    "\n",
    "    Args:\n",
    "        train_data (tuple): Tuple containing inputs and labels as well (x, y).\n",
    "        valid_data (tuple): Same as train_data, this data is used to validate.\n",
    "        n_classes (int): Number of classes.\n",
    "        n_inner_layers (int): Number of inner layers.\n",
    "        units_per_layer (list): List of amounts of units per layer, the length of this list has to be the same\n",
    "        as the number of inner layers.\n",
    "        activations (list): List of activation functions, the length of this list is 1 element larger than\n",
    "        units_per_layer.\n",
    "        dropouts (list): List of dropout rates, the length of this list gas to be the same as the number\n",
    "        of inner layers.\n",
    "        optimizer (:obj:): Keras optimizer.\n",
    "        loss (:obj:): Keras loss function.\n",
    "        metrics (list): List of metrics.\n",
    "        batch_size (int): Size of the batches.\n",
    "        epochs (int): Number of epochs to train.\n",
    "\n",
    "    Returns:\n",
    "        model_hist (:obj:): Keras estimator model.\n",
    "    \"\"\"\n",
    "    x_tr, y_tr = train_data\n",
    "    model = Sequential()\n",
    "    model.add(InputLayer(input_shape=x_tr.shape[1:]))\n",
    "    for layer in range(n_inner_layers):\n",
    "        model.add(Dense(units=units_per_layer[layer], activation=activations[layer]))\n",
    "        if dropouts:\n",
    "            model.add(Dropout(rate=dropouts[layer]))\n",
    "    # Since with two classes we only need 1 decider neuron\n",
    "    if n_classes == 2:\n",
    "        n_classes -= 1\n",
    "    model.add(Dense(units=n_classes, activation=activations[-1]))\n",
    "\n",
    "    model.compile(optimizer=optimizer, loss=loss, metrics=metrics)\n",
    "\n",
    "    model.fit(x=x_tr, y=y_tr, batch_size=batch_size, epochs=epochs, validation_data=valid_data)\n",
    "\n",
    "    return model\n"
   ],
   "metadata": {
    "collapsed": false,
    "pycharm": {
     "name": "#%%\n"
    }
   }
  },
  {
   "cell_type": "code",
   "execution_count": null,
   "outputs": [],
   "source": [
    "mlp_model = mlp(train_data=(mlp_x_train, y_train), valid_data=(mlp_x_valid, y_valid), n_inner_layers=1,\n",
    "                units_per_layer=[5], activations=['sigmoid', 'softmax'],\n",
    "                optimizer=keras.optimizers.RMSprop(), metrics=['accuracy'])"
   ],
   "metadata": {
    "collapsed": false,
    "pycharm": {
     "name": "#%%\n"
    }
   }
  },
  {
   "cell_type": "code",
   "execution_count": null,
   "outputs": [],
   "source": [
    "mlp_y_scores = mlp_model.predict(mlp_x_test)"
   ],
   "metadata": {
    "collapsed": false,
    "pycharm": {
     "name": "#%%\n"
    }
   }
  },
  {
   "cell_type": "code",
   "execution_count": null,
   "outputs": [],
   "source": [
    "mlp_y_test = label_binarize(y_test, classes=[0, 1, 2, 3, 4, 5, 6, 7, 8, 9])"
   ],
   "metadata": {
    "collapsed": false,
    "pycharm": {
     "name": "#%%\n"
    }
   }
  },
  {
   "cell_type": "code",
   "execution_count": null,
   "outputs": [],
   "source": [
    "fpr = dict()\n",
    "tpr = dict()\n",
    "roc_auc = dict()\n",
    "\n",
    "for i in range(n_digits):\n",
    "    fpr[i], tpr[i], _ = roc_curve(mlp_y_test[:, i], mlp_y_scores[:, i])\n",
    "    roc_auc[i] = auc(fpr[i], tpr[i])"
   ],
   "metadata": {
    "collapsed": false,
    "pycharm": {
     "name": "#%%\n"
    }
   }
  },
  {
   "cell_type": "code",
   "execution_count": null,
   "outputs": [],
   "source": [
    "fpr[\"micro\"], tpr[\"micro\"], _ = roc_curve(mlp_y_test.ravel(), mlp_y_scores.ravel())\n",
    "roc_auc[\"micro\"] = auc(fpr[\"micro\"], tpr[\"micro\"])"
   ],
   "metadata": {
    "collapsed": false,
    "pycharm": {
     "name": "#%%\n"
    }
   }
  },
  {
   "cell_type": "code",
   "execution_count": null,
   "outputs": [],
   "source": [
    "# First aggregate all false positive rates\n",
    "all_fpr = np.unique(np.concatenate([fpr[i] for i in range(n_digits)]))\n",
    "lw = 2\n",
    "# Then interpolate all ROC curves at this points\n",
    "mean_tpr = np.zeros_like(all_fpr)\n",
    "for i in range(n_digits):\n",
    "    mean_tpr += np.interp(all_fpr, fpr[i], tpr[i])\n",
    "\n",
    "# Finally average it and compute AUC\n",
    "mean_tpr /= n_digits\n",
    "\n",
    "fpr[\"macro\"] = all_fpr\n",
    "tpr[\"macro\"] = mean_tpr\n",
    "roc_auc[\"macro\"] = auc(fpr[\"macro\"], tpr[\"macro\"])\n",
    "\n",
    "# Plot all ROC curves\n",
    "plt.figure()\n",
    "plt.plot(fpr[\"micro\"], tpr[\"micro\"],\n",
    "         label='micro-average ROC curve (area = {0:0.2f})'\n",
    "               ''.format(roc_auc[\"micro\"]),\n",
    "         color='deeppink', linestyle=':', linewidth=4)\n",
    "\n",
    "plt.plot(fpr[\"macro\"], tpr[\"macro\"],\n",
    "         label='macro-average ROC curve (area = {0:0.2f})'\n",
    "               ''.format(roc_auc[\"macro\"]),\n",
    "         color='navy', linestyle=':', linewidth=4)\n",
    "\n",
    "colors = cycle(['aqua', 'darkorange', 'cornflowerblue'])\n",
    "for i, color in zip(range(n_digits), colors):\n",
    "    plt.plot(fpr[i], tpr[i], color=color, lw=lw,\n",
    "             label='ROC curve of class {0} (area = {1:0.2f})'\n",
    "                   ''.format(i, roc_auc[i]))\n",
    "\n",
    "plt.plot([0, 1], [0, 1], 'k--', lw=lw)\n",
    "plt.xlim([0.0, 1.0])\n",
    "plt.ylim([0.0, 1.05])\n",
    "plt.xlabel('False Positive Rate')\n",
    "plt.ylabel('True Positive Rate')\n",
    "plt.title('Some extension of Receiver operating characteristic to multi-class')\n",
    "plt.legend(loc=\"lower right\")\n",
    "plt.show()"
   ],
   "metadata": {
    "collapsed": false,
    "pycharm": {
     "name": "#%%\n"
    }
   }
  },
  {
   "cell_type": "code",
   "execution_count": null,
   "outputs": [],
   "source": [
    "# Reshaping images to use convolutional neural network as estimator\n",
    "if K.image_data_format() == 'channels_first':\n",
    "    cnn_x_train = x_train.reshape(n_train, 1, img_rows, img_cols)\n",
    "    cnn_x_valid = x_valid.reshape(n_valid, 1, img_rows, img_cols)\n",
    "    cnn_x_test = x_test.reshape(n_test, 1, img_rows, img_cols)\n",
    "else:\n",
    "    cnn_x_train = x_train.reshape(n_train, img_rows, img_cols, 1)\n",
    "    cnn_x_valid = x_valid.reshape(n_valid, img_rows, img_cols, 1)\n",
    "    cnn_x_test = x_test.reshape(n_test, img_rows, img_cols, 1)\n",
    "\n",
    "cnn_input_shape = x_train.shape[1:]"
   ],
   "metadata": {
    "collapsed": false,
    "pycharm": {
     "name": "#%%\n"
    }
   }
  },
  {
   "cell_type": "code",
   "execution_count": null,
   "outputs": [],
   "source": [
    "# Scaling data\n",
    "# TODO: replace name of variables by the variables you want to scale\n",
    "x_train = x_train.astype('float32')\n",
    "x_valid = x_valid.astype('float32')\n",
    "x_test = x_test.astype('float32')\n",
    "x_train /= 255\n",
    "x_valid /= 255\n",
    "x_test /= 255"
   ],
   "metadata": {
    "collapsed": false,
    "pycharm": {
     "name": "#%%\n"
    }
   }
  },
  {
   "cell_type": "code",
   "execution_count": null,
   "outputs": [],
   "source": [
    "# Convolutional Neural Network\n",
    "cnn = Sequential()\n",
    "cnn.add(Conv2D(filters=32, kernel_size=(3, 3), activation='relu', input_shape=cnn_input_shape))\n",
    "cnn.add(MaxPooling2D(pool_size=(2, 2)))\n",
    "cnn.add(Dropout(rate=0.2))\n",
    "cnn.add(Conv2D(filters=64, kernel_size=(3, 3), activation='relu'))\n",
    "cnn.add(MaxPooling2D(pool_size=(2, 2)))\n",
    "cnn.add(Dropout(rate=0.2))\n",
    "cnn.add(Flatten())\n",
    "cnn.add(Dense(units=128, activation='relu'))\n",
    "cnn.add(Dropout(rate=0.5))\n",
    "cnn.add(Dense(n_digits, activation='softmax'))"
   ],
   "metadata": {
    "collapsed": false,
    "pycharm": {
     "name": "#%%\n"
    }
   }
  },
  {
   "cell_type": "code",
   "execution_count": null,
   "outputs": [],
   "source": [
    "cnn.compile(optimizer=keras.optimizers.Adam(),\n",
    "            loss=keras.losses.sparse_categorical_crossentropy,\n",
    "            metrics=['accuracy'])"
   ],
   "metadata": {
    "collapsed": false,
    "pycharm": {
     "name": "#%%\n"
    }
   }
  },
  {
   "cell_type": "code",
   "execution_count": null,
   "outputs": [],
   "source": [
    "cnn_hist = cnn.fit(x=cnn_x_train, y=y_train, batch_size=64, epochs=10, validation_data=(cnn_x_valid, y_valid))"
   ],
   "metadata": {
    "collapsed": false,
    "pycharm": {
     "name": "#%%\n"
    }
   }
  }
 ],
 "metadata": {
  "kernelspec": {
   "display_name": "Python 3",
   "language": "python",
   "name": "python3"
  },
  "language_info": {
   "codemirror_mode": {
    "name": "ipython",
    "version": 2
   },
   "file_extension": ".py",
   "mimetype": "text/x-python",
   "name": "python",
   "nbconvert_exporter": "python",
   "pygments_lexer": "ipython2",
   "version": "2.7.6"
  }
 },
 "nbformat": 4,
 "nbformat_minor": 0
}